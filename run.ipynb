{
 "cells": [
  {
   "cell_type": "code",
   "execution_count": 10,
   "metadata": {},
   "outputs": [],
   "source": [
    "# import packages\n",
    "from utils.download import download_dataset\n",
    "import zipfile\n",
    "import glob\n",
    "from PIL import Image\n",
    "import numpy as np\n",
    "from main import MitoReID\n",
    "import argparse\n",
    "import matplotlib.pyplot as plt\n",
    "import matplotlib as mpl\n",
    "%matplotlib inline\n",
    "mpl.rcParams['figure.dpi'] = 300"
   ]
  },
  {
   "cell_type": "code",
   "execution_count": null,
   "outputs": [],
   "source": [
    "# Download the Mito dataset in zip format from Google drive.\n",
    "download_dataset(name='Mito.zip', save_folder='./data')\n",
    "\n",
    "# unzip Mito.zip.\n",
    "with zipfile.ZipFile('./data/Mito.zip', 'r') as zip_ref:\n",
    "    zip_ref.extractall('./data')"
   ],
   "metadata": {
    "collapsed": false
   }
  },
  {
   "cell_type": "code",
   "execution_count": 2,
   "outputs": [
    {
     "ename": "NameError",
     "evalue": "name 'glob' is not defined",
     "output_type": "error",
     "traceback": [
      "\u001B[1;31m---------------------------------------------------------------------------\u001B[0m",
      "\u001B[1;31mNameError\u001B[0m                                 Traceback (most recent call last)",
      "Cell \u001B[1;32mIn[2], line 18\u001B[0m\n\u001B[0;32m      1\u001B[0m \u001B[38;5;124;03m'''\u001B[39;00m\n\u001B[0;32m      2\u001B[0m \u001B[38;5;124;03mThe dataset's folder structure is as follows. Notably, l1, l2, and l3 represent three replicated experiments, each sharing an identical folder structure.\u001B[39;00m\n\u001B[0;32m      3\u001B[0m \n\u001B[1;32m   (...)\u001B[0m\n\u001B[0;32m     14\u001B[0m \u001B[38;5;124;03m- annotation.xlsx: annotations for the dataset. There are two sheets in the excel: 'FDA-list' for FDA approved drugs, 'NC-list' for natural compounds.\u001B[39;00m\n\u001B[0;32m     15\u001B[0m \u001B[38;5;124;03m'''\u001B[39;00m\n\u001B[0;32m     17\u001B[0m \u001B[38;5;66;03m# view one image sequence\u001B[39;00m\n\u001B[1;32m---> 18\u001B[0m folder \u001B[38;5;241m=\u001B[39m \u001B[43mglob\u001B[49m\u001B[38;5;241m.\u001B[39mglob(\u001B[38;5;124m'\u001B[39m\u001B[38;5;124m./data/Mito/*/*/*/*\u001B[39m\u001B[38;5;124m'\u001B[39m)[\u001B[38;5;241m0\u001B[39m]\n\u001B[0;32m     19\u001B[0m \u001B[38;5;28;01mfor\u001B[39;00m i \u001B[38;5;129;01min\u001B[39;00m \u001B[38;5;28mrange\u001B[39m(\u001B[38;5;241m1\u001B[39m, \u001B[38;5;241m17\u001B[39m):\n\u001B[0;32m     20\u001B[0m     path \u001B[38;5;241m=\u001B[39m \u001B[38;5;124mf\u001B[39m\u001B[38;5;124m'\u001B[39m\u001B[38;5;132;01m{\u001B[39;00mfolder\u001B[38;5;132;01m}\u001B[39;00m\u001B[38;5;124m/\u001B[39m\u001B[38;5;132;01m{\u001B[39;00mi\u001B[38;5;132;01m}\u001B[39;00m\u001B[38;5;124m.jpg\u001B[39m\u001B[38;5;124m'\u001B[39m\n",
      "\u001B[1;31mNameError\u001B[0m: name 'glob' is not defined"
     ]
    }
   ],
   "source": [
    "'''\n",
    "The dataset's folder structure is as follows. Notably, l1, l2, and l3 represent three replicated experiments, each sharing an identical folder structure.\n",
    "\n",
    "- l1: experiment 1\n",
    "-- train: data for training.\n",
    "-- query: data for evaluation, query and gallery are used together to evaluate.\n",
    "-- gallery: data for evaluation, query and gallery are used together to evaluate.\n",
    "-- nc: natural compounds.\n",
    "- l2: experiment 2\n",
    "-- (same as l1)\n",
    "- l3: experiment 3\n",
    "-- (same as l1)\n",
    "- novel: unseen novel FDA-approved drugs.\n",
    "- annotation.xlsx: annotations for the dataset. There are two sheets in the excel: 'FDA-list' for FDA approved drugs, 'Novel-list' for novel compounds.\n",
    "'''\n",
    "\n",
    "# view one image sequence\n",
    "folder = glob.glob('./data/Mito/*/*/*/*')[0]\n",
    "for i in range(1, 17):\n",
    "    path = f'{folder}/{i}.jpg'\n",
    "    img = np.array(Image.open(path))\n",
    "    plt.subplot(4, 4, i)\n",
    "    plt.axis('off')\n",
    "    plt.imshow(img)\n",
    "plt.show()"
   ],
   "metadata": {
    "collapsed": false
   }
  },
  {
   "cell_type": "code",
   "execution_count": 1,
   "outputs": [
    {
     "name": "stderr",
     "output_type": "stream",
     "text": [
      "c:\\users\\weiming\\appdata\\local\\programs\\python\\python38\\lib\\site-packages\\tqdm\\auto.py:21: TqdmWarning: IProgress not found. Please update jupyter and ipywidgets. See https://ipywidgets.readthedocs.io/en/stable/user_install.html\n",
      "  from .autonotebook import tqdm as notebook_tqdm\n"
     ]
    },
    {
     "name": "stdout",
     "output_type": "stream",
     "text": [
      "Namespace(arch='resnet50', augment=1, bnneck=1, bs=128, center_lr=0.05, choose_col='moa_choose', config='configs/test.yml', device_ids='0,1', downscale_temporal_dimension=0, epoch=400, feature_path='', freeze=0, gallery_path='/home/weiming.li/dataset/mito_center/l1/gallery,/home/weiming.li/dataset/mito_center/l2/gallery,/home/weiming.li/dataset/mito_center/l3/gallery', id_col='moa_id', input_size=112, loss='id+trihard', lr=0.0001, lr_patience=5, margin=0.1, mean=[0.023, 0.06, 0.015], mode='test', model_path='result/mitosnet_resnet50_size_112_pretrain_37_base_train_gallery_bak.pth', num_classes=37, num_instances=4, num_mislabel=5, num_timepoint=16, num_workers=16, optimizer='sgd', predict_path='', query_path='/home/weiming.li/dataset/mito_center/l1/query,/home/weiming.li/dataset/mito_center/l2/query,/home/weiming.li/dataset/mito_center/l3/query', resume=1, resume_path='result/mitosnet_resnet50_size_112_pretrain_37_base_train_gallery_bak_best.pth', sample_rate=1, sample_size=128, scheduler='adapt', smooth_epsilon=0.1, std=[0.042, 0.128, 0.032], target_path='utils/annotation.xlsx', tol=40, train_path='', type='rgb', val_period=3, warmup_epoch=100, weight=0.01)\n"
     ]
    }
   ],
   "source": [
    "'''\n",
    "Use the trained model to test on the query set. Configurations can be refered to `configs/test.yml`. Parameters explanation of the configurations can be found in main.py. Evaluation metrics are accuracy, rank-k and mAP. The model weight `mitoreid-resnet-50-pretrain` will be downloaded automatically for testing and predicting. All the model weight you can download are listed below. They all trained with I3D ResNet network.\n",
    "\n",
    "Note: The standard I3D ResNet network downscales the temporal dimension throughout all stages while the modified I3D ResNet network only downscales the temporal dimension in the first two stages.\n",
    "\n",
    "- resnet-18-kinetics: weight trained with standard I3D ResNet-18 network on Kinetics-400 dataset.\n",
    "- resnet-50-kinetics: weight trained with standard I3D ResNet-50 network on Kinetics-400 dataset.\n",
    "- resnet-18-mito: weight trained with modified I3D ResNet-18 network on Mito dataset using self-supervised pretraining technique.\n",
    "- resnet-50-mito: weight trained with modified I3D ResNet-50 network on Mito dataset using self-supervised pretraining technique.\n",
    "- ide: weight trained with IDE framework with modified I3D ResNet-18 network on Mito dataset, pretrained from resnet-18-kinetics.\n",
    "- mitoreid-resnet-18: weight trained with MitoReID framework with modified I3D ResNet-18 network on Mito dataset, pretrained from resnet-18-kinetics.\n",
    "- mitoreid-resnet-50: weight trained with MitoReID framework with modified I3D ResNet-50 network on Mito dataset, pretrained from resnet-50-kinetics.\n",
    "- mitoreid-resnet-18-standard: weight trained with MitoReID framework with standard I3D ResNet-18 network on Mito dataset, pretrained from resnet-18-kinetics.\n",
    "- mitoreid-resnet-50-standard: weight trained with MitoReID framework with standard I3D ResNet-50 network on Mito dataset, pretrained from resnet-50-kinetics.\n",
    "- mitoreid-resnet-18-image: weight trained with MitoReID framework with standard I3D ResNet-18 network on Mito dataset (image only), pretrained from resnet-18-kinetics.\n",
    "- mitoreid-resnet-50-image: weight trained with MitoReID framework with standard I3D ResNet-50 network on Mito dataset (image only), pretrained from resnet-50-kinetics.\n",
    "- mitoreid-resnet-18-pretrain: weight trained with MitoReID framework with modified I3D ResNet-18 network on Mito dataset, pretrained from resnet-18-mito.\n",
    "- mitoreid-resnet-50-pretrain: weight trained with MitoReID framework with modified I3D ResNet-50 network on Mito dataset, pretrained from resnet-50-mito.\n",
    "'''\n",
    "\n",
    "mito = MitoReID('configs/test.yml')\n",
    "mito.test()"
   ],
   "metadata": {
    "collapsed": false
   }
  },
  {
   "cell_type": "code",
   "execution_count": null,
   "outputs": [],
   "source": [
    "'''\n",
    "Use the trained model to predict the natural compounds' MOAs. Configurations can be refered to `configs/predict.yml`. You are expected to get the predicted MOA id (pred), score (rank1 and cosine_distance) and the name of the MOA (pred_name).\n",
    "'''\n",
    "\n",
    "mito = MitoReID('configs/predict.yml')\n",
    "mito.predict()"
   ],
   "metadata": {
    "collapsed": false
   }
  },
  {
   "cell_type": "code",
   "execution_count": null,
   "outputs": [],
   "source": [
    "'''\n",
    "Fine-tune your model based on the self-supervised pretrained weight. Configurations can be refered to `configs/fine-tune.yml`. The pretrained weight `resnet-50-mito` will be downloaded automatically. Train on V100 will take about 1 hour. Wandb is used to visualize the training process, register the wandb account in `https://wandb.ai/site` if you don't have.\n",
    "'''\n",
    "\n",
    "# fine-tune your model based on the pretrained weight\n",
    "mito = MitoReID('configs/fine-tune.yml')\n",
    "mito.train()"
   ],
   "metadata": {
    "collapsed": false
   }
  },
  {
   "cell_type": "code",
   "execution_count": null,
   "outputs": [],
   "source": [
    "'''\n",
    "Pretrain your model using self-supervised technique. Configurations can be refered to configs/pretrain.yml. The pretraining is based on the weight trained on Kinetics-400 dataset, which is benchmark for video classification.The pretrained weight `resnet-50-kinetics` will be downloaded automatically. Train on V100 will take about 4 hours.\n",
    "\n",
    "Note: Train from scratch is not recommended considering the difficulty of image sequences classification. Too much training may led to overfitting, don’t set too large epoch in the config.\n",
    "'''\n",
    "\n",
    "# pretrain your model using self-supervised technique\n",
    "mito = MitoReID('configs/pretrain.yml')\n",
    "mito.train()"
   ],
   "metadata": {
    "collapsed": false
   }
  },
  {
   "cell_type": "code",
   "execution_count": null,
   "outputs": [],
   "source": [
    "'''\n",
    "Train your model from scratch base on the weight trained on Kinetics-400 dataset. Configurations can be refered to `configs/train.yml`. The pretrained weight `resnet-50-kinetics` will be downloaded automatically. Train on V100 will take about 5 hours.\n",
    "'''\n",
    "\n",
    "# train your model from scratch\n",
    "mito = MitoReID('configs/train.yml')\n",
    "mito.train()"
   ],
   "metadata": {
    "collapsed": false
   }
  }
 ],
 "metadata": {
  "kernelspec": {
   "display_name": "Python 3 (ipykernel)",
   "language": "python",
   "name": "python3"
  },
  "language_info": {
   "codemirror_mode": {
    "name": "ipython",
    "version": 3
   },
   "file_extension": ".py",
   "mimetype": "text/x-python",
   "name": "python",
   "nbconvert_exporter": "python",
   "pygments_lexer": "ipython3",
   "version": "3.7.11"
  },
  "varInspector": {
   "cols": {
    "lenName": 16,
    "lenType": 16,
    "lenVar": 40
   },
   "kernels_config": {
    "python": {
     "delete_cmd_postfix": "",
     "delete_cmd_prefix": "del ",
     "library": "var_list.py",
     "varRefreshCmd": "print(var_dic_list())"
    },
    "r": {
     "delete_cmd_postfix": ") ",
     "delete_cmd_prefix": "rm(",
     "library": "var_list.r",
     "varRefreshCmd": "cat(var_dic_list()) "
    }
   },
   "types_to_exclude": [
    "module",
    "function",
    "builtin_function_or_method",
    "instance",
    "_Feature"
   ],
   "window_display": false
  }
 },
 "nbformat": 4,
 "nbformat_minor": 4
}
